{
 "cells": [
  {
   "cell_type": "code",
   "execution_count": 19,
   "id": "a4e25a4b",
   "metadata": {},
   "outputs": [
    {
     "name": "stdout",
     "output_type": "stream",
     "text": [
      "Please enter the given numbers only, otherwise you'll lose.\n",
      "PRESS\n",
      " 0 for Rock\n",
      " 1 for Paper\n",
      " 2 for Scissors\n",
      "enter a number : 2\n",
      " computer chose :2\n",
      "Draw\n"
     ]
    }
   ],
   "source": [
    "import random\n",
    "print(\"Please enter the given numbers only, otherwise you'll lose.\\nPRESS\\n 0 for Rock\\n 1 for Paper\\n 2 for Scissors\" )\n",
    "user_input = int(input(\"enter a number : \"))\n",
    "computer_input = random.randrange(0,3)\n",
    "print(f\" computer chose :{computer_input}\")\n",
    "if user_input>=0 and user_input<=2:\n",
    "    if user_input == computer_input:\n",
    "        print(\"Draw\")\n",
    "    elif user_input==0 and computer_input==2:\n",
    "        print(\"You win\")\n",
    "    elif user_input==2 and computer_input==0:\n",
    "        print(\"You lose\")\n",
    "    elif user_input > computer_input:\n",
    "        print(\"You win\")\n",
    "    elif user_input < computer_input:\n",
    "        print (\"You lose\")\n",
    "else:\n",
    "    print(\"You entered the wrong number. You lose\")"
   ]
  },
  {
   "cell_type": "code",
   "execution_count": null,
   "id": "df5ff323",
   "metadata": {},
   "outputs": [],
   "source": []
  },
  {
   "cell_type": "code",
   "execution_count": null,
   "id": "ca266b7c",
   "metadata": {},
   "outputs": [],
   "source": []
  }
 ],
 "metadata": {
  "kernelspec": {
   "display_name": "Python 3 (ipykernel)",
   "language": "python",
   "name": "python3"
  },
  "language_info": {
   "codemirror_mode": {
    "name": "ipython",
    "version": 3
   },
   "file_extension": ".py",
   "mimetype": "text/x-python",
   "name": "python",
   "nbconvert_exporter": "python",
   "pygments_lexer": "ipython3",
   "version": "3.9.13"
  }
 },
 "nbformat": 4,
 "nbformat_minor": 5
}
